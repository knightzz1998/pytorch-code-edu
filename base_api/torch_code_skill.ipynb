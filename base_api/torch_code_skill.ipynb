{
 "cells": [
  {
   "cell_type": "markdown",
   "metadata": {
    "collapsed": true,
    "pycharm": {
     "name": "#%% md\n"
    }
   },
   "source": [
    "### 1. Pytorch模型的使用\n",
    "\n",
    "- torch.saves(state, dir)\n",
    "    1. 保存/序列化\n",
    "- torch.load(dir)\n",
    "    1. 加载模型"
   ]
  },
  {
   "cell_type": "code",
   "execution_count": null,
   "outputs": [],
   "source": [],
   "metadata": {
    "collapsed": false,
    "pycharm": {
     "name": "#%%\n"
    }
   }
  },
  {
   "cell_type": "markdown",
   "source": [
    "### 2. Pytorch并行化操作\n",
    "\n",
    "- torch.get num threads():\n",
    "    1. 获得用于并行化CPU操作的OpenMP线程数\n",
    "- torch.set_ num threads(int):\n",
    "    1. 设定用于并行化CPU操作的OpenMP线程数"
   ],
   "metadata": {
    "collapsed": false
   }
  },
  {
   "cell_type": "markdown",
   "source": [],
   "metadata": {
    "collapsed": false
   }
  },
  {
   "cell_type": "markdown",
   "source": [
    "### 3. Tensor的相关配置\n",
    "\n",
    "- torch.is_ tensor()\n",
    "    1. 如果是pytorch的tensor类型返回true\n",
    "- torch.is_ storage()\n",
    "    1. 如果是pytorch的storage类型返回ture\n",
    "- torch.set flush_ denormal(mode)\n",
    "    1. 防止- -些不正常的元素产生\n",
    "- torch.set_default_ dtype(d)\n",
    "    1. 对torch.tensor() 设置默认的浮点类型\n",
    "- torch.set_printoptions(precision= None, threshold=None, edgeitems = None, linewidth=None, profile=None)\n",
    "    1. 设置printing的打印参数"
   ],
   "metadata": {
    "collapsed": false
   }
  },
  {
   "cell_type": "code",
   "execution_count": null,
   "outputs": [],
   "source": [],
   "metadata": {
    "collapsed": false,
    "pycharm": {
     "name": "#%%\n"
    }
   }
  },
  {
   "cell_type": "markdown",
   "source": [
    "### 4. Tensor与numpy的相互转换\n",
    "\n",
    "- torch.from_ numpy(ndarry)\n",
    "- a.numpy()"
   ],
   "metadata": {
    "collapsed": false
   }
  },
  {
   "cell_type": "code",
   "execution_count": 1,
   "outputs": [],
   "source": [
    "import torch\n",
    "import numpy as np"
   ],
   "metadata": {
    "collapsed": false,
    "pycharm": {
     "name": "#%%\n"
    }
   }
  },
  {
   "cell_type": "code",
   "execution_count": 4,
   "outputs": [],
   "source": [
    "a = np.zeros([2, 2])\n",
    "out = torch.from_numpy(a)\n",
    "\n",
    "# out = out.to(torch.device(\"cuda\"))\n",
    "out = out.to(torch.device(\"cpu\"))"
   ],
   "metadata": {
    "collapsed": false,
    "pycharm": {
     "name": "#%%\n"
    }
   }
  },
  {
   "cell_type": "code",
   "execution_count": null,
   "outputs": [],
   "source": [],
   "metadata": {
    "collapsed": false,
    "pycharm": {
     "name": "#%%\n"
    }
   }
  }
 ],
 "metadata": {
  "kernelspec": {
   "display_name": "Python 3",
   "language": "python",
   "name": "python3"
  },
  "language_info": {
   "codemirror_mode": {
    "name": "ipython",
    "version": 2
   },
   "file_extension": ".py",
   "mimetype": "text/x-python",
   "name": "python",
   "nbconvert_exporter": "python",
   "pygments_lexer": "ipython2",
   "version": "2.7.6"
  }
 },
 "nbformat": 4,
 "nbformat_minor": 0
}