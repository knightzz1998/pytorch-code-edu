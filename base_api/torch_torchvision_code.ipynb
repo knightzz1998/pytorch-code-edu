{
 "cells": [
  {
   "cell_type": "markdown",
   "metadata": {
    "collapsed": true,
    "pycharm": {
     "name": "#%% md\n"
    }
   },
   "source": [
    "### 1. Torchvision介绍\n",
    "\n",
    "- torchvision是独立于pytorch的关于图像操作的一些方便工具库。\n",
    "    1. https://github.com/pytorch/vision\n",
    "    2. https://pytorch.org/docs/master/torchvision/\n",
    "- torchvision主要包括一下几个包:\n",
    "    1. vision.datasets:几个常用视觉数据集，可以下载和加载\n",
    "    2. vision.models:已经训练好的模型，例如: AlexNet, VGG,ResNet\n",
    "    3. vision.transforms:常用的图像操作, 例如:随机切割, 旋转, 数据类型转换, 图像到tensor, numpy 数组到tensor, tensor到图像等\n",
    "    4. vision.utils、vision.io、vision.ops"
   ]
  },
  {
   "cell_type": "code",
   "execution_count": null,
   "outputs": [],
   "source": [],
   "metadata": {
    "collapsed": false,
    "pycharm": {
     "name": "#%%\n"
    }
   }
  }
 ],
 "metadata": {
  "kernelspec": {
   "display_name": "Python 3",
   "language": "python",
   "name": "python3"
  },
  "language_info": {
   "codemirror_mode": {
    "name": "ipython",
    "version": 2
   },
   "file_extension": ".py",
   "mimetype": "text/x-python",
   "name": "python",
   "nbconvert_exporter": "python",
   "pygments_lexer": "ipython2",
   "version": "2.7.6"
  }
 },
 "nbformat": 4,
 "nbformat_minor": 0
}