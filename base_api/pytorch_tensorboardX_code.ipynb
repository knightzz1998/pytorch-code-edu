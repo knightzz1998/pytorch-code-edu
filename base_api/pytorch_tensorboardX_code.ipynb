{
 "cells": [
  {
   "cell_type": "markdown",
   "metadata": {
    "collapsed": true,
    "pycharm": {
     "name": "#%% md\n"
    }
   },
   "source": [
    "### TensorboardX\n",
    "\n",
    "- tensorboardX介绍\n",
    "    1. scalar, image, figure, histogram, audio, text, graph,onnx_graph, embedding, pr_curve and videosummaries等不同的可视化展示方式\n",
    "    2. pip3 install tensorboardX\n",
    "- 使用方式\n",
    "    1. 生成日志到指定的目录\n",
    "    2. tensorboard --logdir 日志路径"
   ]
  },
  {
   "cell_type": "code",
   "execution_count": 1,
   "outputs": [],
   "source": [
    "from tensorboardX import SummaryWriter\n",
    "\n",
    "# 定义文件路径\n",
    "writer = SummaryWriter(\"log\")\n",
    "for i in range(100):\n",
    "    writer.add_scalar(\"a\", i, global_step=i)\n",
    "    writer.add_scalar(\"b\", i ** 2, global_step=i)\n",
    "writer.close()"
   ],
   "metadata": {
    "collapsed": false,
    "pycharm": {
     "name": "#%%\n"
    }
   }
  },
  {
   "cell_type": "markdown",
   "source": [
    "- 日志运行结果如下 :\n",
    "\n",
    "11488@DESKTOP-4KT7IH4 MINGW64 /g/SpellWorkSpace/PytorchSpace/pytorch-code-edu/base_api/log (master)\n",
    "$ tensorboard --logdir ./\n",
    "2021-10-15 10:24:01.331265: W tensorflow/stream_executor/platform/default/dso_loader.cc:59] Could not load dynamic library 'cudart64_101.dll'; dlerror: cudart64_101.dll not found\n",
    "2021-10-15 10:24:01.331798: I tensorflow/stream_executor/cuda/cudart_stub.cc:29] Ignore above cudart dlerror if you do not have a GPU set up on your machine.\n",
    "Serving TensorBoard on localhost; to expose to the network, use a proxy or pass --bind_all\n",
    "TensorBoard 2.6.0 at http://localhost:6006/ (Press CTRL+C to quit)\n"
   ],
   "metadata": {
    "collapsed": false
   }
  },
  {
   "cell_type": "code",
   "execution_count": null,
   "outputs": [],
   "source": [],
   "metadata": {
    "collapsed": false,
    "pycharm": {
     "name": "#%%\n"
    }
   }
  }
 ],
 "metadata": {
  "kernelspec": {
   "display_name": "Python 3",
   "language": "python",
   "name": "python3"
  },
  "language_info": {
   "codemirror_mode": {
    "name": "ipython",
    "version": 2
   },
   "file_extension": ".py",
   "mimetype": "text/x-python",
   "name": "python",
   "nbconvert_exporter": "python",
   "pygments_lexer": "ipython2",
   "version": "2.7.6"
  }
 },
 "nbformat": 4,
 "nbformat_minor": 0
}