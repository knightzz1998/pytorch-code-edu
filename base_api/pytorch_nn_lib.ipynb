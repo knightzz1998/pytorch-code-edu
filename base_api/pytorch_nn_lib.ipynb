{
 "cells": [
  {
   "cell_type": "markdown",
   "metadata": {
    "collapsed": true,
    "pycharm": {
     "name": "#%% md\n"
    }
   },
   "source": [
    "### 1. torch.nn库\n",
    "\n",
    "- torch.nn是专门为神经网络设计的模块化接口。\n",
    "- nn构建于autograd之上，可以用来定义和运行神经网络。\n",
    "    1. nn.Parameter\n",
    "    2. nn.Linear&nn.conv2d等等\n",
    "    3. nn.functional\n",
    "    4. nn.Module\n",
    "    5. nn.Sequential\n",
    "\n",
    "- nn.Parameter\n",
    "    1. 定义可训练参数\n",
    "    2. self.my_ param = nn.Parameter(torch.randn(1))\n",
    "    3. self.register_ parameter\n",
    "    4. nn.ParameterList & nn.ParameterDict\n",
    "\n",
    "- nn.Linear&nn.conv2d&nn.ReLU&nn.MaxPool2d(2))&nn.MSELoss等等\n",
    "    - 各种神经网络层的定义，继承于nn.Module的子类\n",
    "        1. self.conv1 = nn.Conv2d(1,6, (5，5))\n",
    "        2. 调用时: self.conv1(x)\n",
    "    - 参数为parameter类型\n",
    "        1. layer = nn.Linear(1,1)\n",
    "        2. layer.weight = nn.Parameter(torch.FloatTensor([[0]]))\n",
    "        3. layer.bias = nn.Parameter(torch.FloatTensor([0]))\n",
    "\n",
    "- nn.functional\n",
    "    - 包含torch.nn库中所有函数，包含大量loss和activation function\n",
    "        1. torch.nn.functional.conv2d(input, weight, bias=None,stride=1, padding=0, dilation=1, groups=1)\n",
    "        2. torch.nn.conv2d 是一个类\n",
    "    - nn.functional.xxx是函数接口\n",
    "    - nn.functional.xxx无法与nn.Sequential结合使用\n",
    "    - 没有学习参数的(eg. maxpool, loss_func, activation func)等根据个人选择使用nn.functional.xxx或nn.Xxx 需要特别注意dropout层\n",
    "\n",
    "- nn 与nn.functional有什么区别?.nn.functional.xxx是函数接口\n",
    "    1. nn.Xxx是.nn.functional.xxx的类封装，并且nn.Xx×都继承于一个共同祖先 nn.Module\n",
    "    2. nn.Xxx除了具有nn.functional.xxx功能之外，内部附带nn.Module相关的属性和方法，eg. train(), eval(),load_state_dict, state_dict\n",
    "\n",
    "\n",
    "- nn.Module\n",
    "    1. 它是一个抽象概念，既可以表示神经网络中的某个层(layer)，也可以表示一个包含很多层的神经网络\n",
    "    2. model.parameters()\n",
    "    3. model.buffers()\n",
    "    4. model.state_dict()\n",
    "    5. model.modules()\n",
    "    6. forward(), to()\n",
    "    7. https://pytorch.org/docs/stable/nn.html#torch.nn.Module\n",
    "\n",
    "- Parameters VS buffers\n",
    "    1. 一种是反向传播需要被optimizer更新的，称之为parameter\n",
    "        - self.register_parameter(\"param\", param)\n",
    "        - self.param = nn.Parameter(torch.randn(1))\n",
    "    2. —种是反向传播不需要被optimizer更新，称之为buffer\n",
    "        - self.register_buffer('my_buffer', torch.randn(1))\n",
    "\n",
    "- state_dict() & load_state_dict\n",
    "    1. 保存模型和加载模型\n",
    "    2. torch.save(obj=model.state_dict(), f= \"models/net.pth\")\n",
    "    3. model.load_state_dict(torch.load(\"models/net.pth\"))\n",
    "\n",
    "- visdom : Facebook专门为Pytorch开发的一款可视化工具，开源于2017年3月，提供了大多数的科学运算可视化API:\n",
    "    1. https://github.com/facebookresearch/visdom\n",
    "    2. 支持数值（折线图，直方图等)、图像、文本以及视频等·支持Pytorch、Torch和Numpy\n",
    "    3. 用户可以通过编程的方式组织可视化空间或者通过用户接口为数据打造仪表板，检查实验结果和调试代码。\n",
    "        - env:环境& pane:窗格\n",
    "    4. 安装\n",
    "        - pip install visdom\n",
    "    5. 启动服务\n",
    "        - python -m visdom.server\n",
    "\n",
    "- tensorboardX介绍\n",
    "    1. scalar, image, figure, histogram, audio, text, graph,onnx_graph, embedding, pr_curve and videosummaries等不同的可视化展示方式\n",
    "    2. pip3 install tensorboardX\n"
   ]
  },
  {
   "cell_type": "code",
   "execution_count": null,
   "outputs": [],
   "source": [],
   "metadata": {
    "collapsed": false,
    "pycharm": {
     "name": "#%%\n"
    }
   }
  }
 ],
 "metadata": {
  "kernelspec": {
   "display_name": "Python 3",
   "language": "python",
   "name": "python3"
  },
  "language_info": {
   "codemirror_mode": {
    "name": "ipython",
    "version": 2
   },
   "file_extension": ".py",
   "mimetype": "text/x-python",
   "name": "python",
   "nbconvert_exporter": "python",
   "pygments_lexer": "ipython2",
   "version": "2.7.6"
  }
 },
 "nbformat": 4,
 "nbformat_minor": 0
}