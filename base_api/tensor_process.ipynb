{
 "cells": [
  {
   "cell_type": "markdown",
   "metadata": {
    "collapsed": true,
    "pycharm": {
     "name": "#%% md\n"
    }
   },
   "source": [
    "### 1. PytorchTensor Base"
   ]
  },
  {
   "cell_type": "markdown",
   "metadata": {
    "pycharm": {
     "name": "#%% md\n"
    }
   },
   "source": [
    "#### 1.1 torch.tensor"
   ]
  },
  {
   "cell_type": "code",
   "execution_count": 1,
   "metadata": {
    "pycharm": {
     "name": "#%%\n"
    }
   },
   "outputs": [
    {
     "name": "stdout",
     "output_type": "stream",
     "text": [
      "torch 1.9.1+cpu\n"
     ]
    }
   ],
   "source": [
    "import torch\n",
    "\n",
    "for module in torch,:\n",
    "    print(module.__name__, module.__version__)"
   ]
  },
  {
   "cell_type": "code",
   "execution_count": 2,
   "metadata": {
    "pycharm": {
     "name": "#%%\n"
    }
   },
   "outputs": [
    {
     "name": "stdout",
     "output_type": "stream",
     "text": [
      "tensor([[1, 2, 3],\n",
      "        [4, 5, 6]])\n",
      "torch.LongTensor\n"
     ]
    }
   ],
   "source": [
    "a = torch.tensor([[1, 2, 3], [4, 5, 6]])\n",
    "print(a)\n",
    "print(a.type())"
   ]
  },
  {
   "cell_type": "markdown",
   "metadata": {},
   "source": [
    "#### 1.2 torch.Tensor"
   ]
  },
  {
   "cell_type": "code",
   "execution_count": 3,
   "metadata": {
    "pycharm": {
     "name": "#%%\n"
    }
   },
   "outputs": [
    {
     "name": "stdout",
     "output_type": "stream",
     "text": [
      "tensor([[4.5001e-39, 4.7755e-39],\n",
      "        [5.1429e-39, 5.9694e-39]])\n"
     ]
    }
   ],
   "source": [
    "# 不指定数据, 会随机生成数据\n",
    "b = torch.Tensor(2, 2)\n",
    "print(b)"
   ]
  },
  {
   "cell_type": "code",
   "execution_count": 4,
   "metadata": {
    "pycharm": {
     "name": "#%%\n"
    }
   },
   "outputs": [
    {
     "name": "stdout",
     "output_type": "stream",
     "text": [
      "torch.LongTensor\n",
      "tensor([[1, 2],\n",
      "        [3, 4]])\n"
     ]
    }
   ],
   "source": [
    "# 使用tuple创建\n",
    "d = torch.tensor(((1, 2), (3, 4)))\n",
    "print(d.type())\n",
    "print(d.type_as(a))"
   ]
  },
  {
   "cell_type": "markdown",
   "metadata": {},
   "source": []
  },
  {
   "cell_type": "markdown",
   "metadata": {},
   "source": [
    "#### 1.3 torch.empty"
   ]
  },
  {
   "cell_type": "code",
   "execution_count": 5,
   "metadata": {
    "pycharm": {
     "name": "#%%\n"
    }
   },
   "outputs": [
    {
     "name": "stdout",
     "output_type": "stream",
     "text": [
      "tensor([[2.1762e-04, 1.0529e-11, 1.3721e-05],\n",
      "        [6.5558e-10, 2.7594e-06, 3.1948e+21]])\n",
      "torch.FloatTensor\n",
      "tensor([[                   0,                    0,                    0],\n",
      "        [                   0,                    0, -9223372036854775808]])\n"
     ]
    }
   ],
   "source": [
    "d = torch.empty(2, 3)\n",
    "print(d)\n",
    "print(d.type())\n",
    "print(d.type_as(a))"
   ]
  },
  {
   "cell_type": "markdown",
   "metadata": {},
   "source": [
    "#### 1.4 torch.zeros"
   ]
  },
  {
   "cell_type": "code",
   "execution_count": 6,
   "metadata": {
    "pycharm": {
     "name": "#%%\n"
    }
   },
   "outputs": [
    {
     "name": "stdout",
     "output_type": "stream",
     "text": [
      "torch.FloatTensor\n",
      "torch.LongTensor\n"
     ]
    }
   ],
   "source": [
    "a = torch.tensor([[1, 2, 3], [4, 5, 6]])\n",
    "d = torch.zeros(2, 3)\n",
    "print(d.type())\n",
    "# 将 d 的类型转换为 tensor a的类型\n",
    "print(d.type_as(a).type())"
   ]
  },
  {
   "cell_type": "markdown",
   "metadata": {},
   "source": [
    "#### 1.5 torch.zeros_like\n",
    "- 将已有的tensor变成全0"
   ]
  },
  {
   "cell_type": "code",
   "execution_count": 7,
   "metadata": {
    "pycharm": {
     "name": "#%%\n"
    }
   },
   "outputs": [
    {
     "name": "stdout",
     "output_type": "stream",
     "text": [
      "tensor([[0.0000e+00, 0.0000e+00, 1.7661e-04],\n",
      "        [2.1254e-07, 5.3736e-05, 3.3243e+21]])\n",
      "tensor([[0., 0., 0.],\n",
      "        [0., 0., 0.]])\n",
      "torch.FloatTensor\n"
     ]
    }
   ],
   "source": [
    "d = torch.Tensor(2, 3)\n",
    "print(d)\n",
    "d = torch.zeros_like(d)\n",
    "print(d)\n",
    "print(d.type())"
   ]
  },
  {
   "cell_type": "markdown",
   "metadata": {},
   "source": [
    "#### 1.6 torch.eye\n",
    "\n",
    "- 生成对角相同的数据"
   ]
  },
  {
   "cell_type": "code",
   "execution_count": 8,
   "metadata": {
    "pycharm": {
     "name": "#%%\n"
    }
   },
   "outputs": [
    {
     "name": "stdout",
     "output_type": "stream",
     "text": [
      "torch.FloatTensor\n",
      "tensor([[1, 0],\n",
      "        [0, 1]])\n"
     ]
    }
   ],
   "source": [
    "d = torch.eye(2, 2)\n",
    "print(d.type())\n",
    "print(d.type_as(a))"
   ]
  },
  {
   "cell_type": "markdown",
   "metadata": {},
   "source": [
    "#### 1.7 torch.ones\n",
    "\n",
    "- 生成全是1的tensor"
   ]
  },
  {
   "cell_type": "code",
   "execution_count": 9,
   "metadata": {
    "pycharm": {
     "name": "#%%\n"
    }
   },
   "outputs": [
    {
     "name": "stdout",
     "output_type": "stream",
     "text": [
      "torch.FloatTensor\n",
      "tensor([[1, 1],\n",
      "        [1, 1]])\n"
     ]
    }
   ],
   "source": [
    "d = torch.ones(2, 2)\n",
    "print(d.type())\n",
    "print(d.type_as(a))"
   ]
  },
  {
   "cell_type": "markdown",
   "metadata": {},
   "source": [
    "#### 1.8 torch.ones_like\n",
    "\n",
    "- 将已有的数据转换为全是1的tensor"
   ]
  },
  {
   "cell_type": "code",
   "execution_count": 10,
   "metadata": {
    "pycharm": {
     "name": "#%%\n"
    }
   },
   "outputs": [
    {
     "name": "stdout",
     "output_type": "stream",
     "text": [
      "torch.LongTensor\n",
      "tensor([1, 1, 1])\n"
     ]
    }
   ],
   "source": [
    "d = torch.tensor([1, 2, 3])\n",
    "d = torch.ones_like(d)\n",
    "print(d.type())\n",
    "print(d.type_as(a))"
   ]
  },
  {
   "cell_type": "markdown",
   "metadata": {},
   "source": [
    "#### 1.9 torch.rand\n",
    "\n",
    "- 生成指定shape的随机数(0~1)"
   ]
  },
  {
   "cell_type": "code",
   "execution_count": 11,
   "metadata": {
    "pycharm": {
     "name": "#%%\n"
    }
   },
   "outputs": [
    {
     "name": "stdout",
     "output_type": "stream",
     "text": [
      "torch.FloatTensor\n",
      "tensor([[0.5115, 0.9366, 0.6257],\n",
      "        [0.7940, 0.5914, 0.6784]])\n"
     ]
    }
   ],
   "source": [
    "d = torch.rand(2, 3)\n",
    "print(d.type())\n",
    "print(d)"
   ]
  },
  {
   "cell_type": "markdown",
   "metadata": {
    "pycharm": {
     "name": "#%% md\n"
    }
   },
   "source": [
    "#### 1.10 torch.arange\n",
    "\n",
    "- 生成指定范围(步长)的数据\n",
    "- arange(start, end, step)"
   ]
  },
  {
   "cell_type": "code",
   "execution_count": 12,
   "metadata": {
    "pycharm": {
     "name": "#%%\n"
    }
   },
   "outputs": [
    {
     "name": "stdout",
     "output_type": "stream",
     "text": [
      "torch.LongTensor\n",
      "tensor([2, 4, 6, 8])\n"
     ]
    }
   ],
   "source": [
    "d = torch.arange(2, 10, 2)\n",
    "print(d.type())\n",
    "print(d.type_as(a))"
   ]
  },
  {
   "cell_type": "markdown",
   "metadata": {},
   "source": [
    "#### 1.11 torch.linspace\n",
    "\n",
    "- 生成等间隔的数据\n",
    "- linspace(start, end, step)"
   ]
  },
  {
   "cell_type": "code",
   "execution_count": 13,
   "metadata": {
    "pycharm": {
     "name": "#%%\n"
    }
   },
   "outputs": [
    {
     "name": "stdout",
     "output_type": "stream",
     "text": [
      "torch.FloatTensor\n",
      "tensor([10,  6,  2])\n"
     ]
    }
   ],
   "source": [
    "d = torch.linspace(10, 2, 3)\n",
    "print(d.type())\n",
    "print(d.type_as(a))"
   ]
  },
  {
   "cell_type": "markdown",
   "metadata": {},
   "source": [
    "#### 1.12 torch.normal\n",
    "\n",
    "- 生成正态分布的数据\n",
    "- normal(mean=均值, std=方差, size=(2, 3), out=输出到指定tensor)"
   ]
  },
  {
   "cell_type": "code",
   "execution_count": 14,
   "metadata": {
    "pycharm": {
     "name": "#%%\n"
    }
   },
   "outputs": [
    {
     "name": "stdout",
     "output_type": "stream",
     "text": [
      "tensor([[ 0.2942, -0.3772,  0.7297],\n",
      "        [-0.5637, -0.6795,  1.2599]])\n",
      "tensor([[ 0.2942, -0.3772,  0.7297],\n",
      "        [-0.5637, -0.6795,  1.2599]])\n"
     ]
    }
   ],
   "source": [
    "dd = torch.normal(mean=0, std=1, size=(2, 3), out=b)\n",
    "print(b)\n",
    "print(dd)"
   ]
  },
  {
   "cell_type": "code",
   "execution_count": 15,
   "metadata": {
    "pycharm": {
     "name": "#%%\n"
    }
   },
   "outputs": [
    {
     "name": "stdout",
     "output_type": "stream",
     "text": [
      "torch.FloatTensor\n",
      "tensor([ 0.3071,  0.7098,  1.1409, -0.0179,  0.0629])\n"
     ]
    }
   ],
   "source": [
    "d = torch.normal(mean=torch.rand(5), std=torch.rand(5))\n",
    "print(d.type())\n",
    "print(d)"
   ]
  },
  {
   "cell_type": "markdown",
   "metadata": {},
   "source": [
    "#### 1.13 tensor.uniform_\n",
    "\n",
    "- 生成均匀分布的数据\n",
    "- uniform_(-1, 1) : 生成-1 到 1 之间均匀分布的数据"
   ]
  },
  {
   "cell_type": "code",
   "execution_count": 16,
   "metadata": {
    "pycharm": {
     "name": "#%%\n"
    }
   },
   "outputs": [
    {
     "name": "stdout",
     "output_type": "stream",
     "text": [
      "tensor([[1.5413e-01,        nan],\n",
      "        [8.4078e-45, 0.0000e+00]])\n",
      "tensor([[-0.3093,  0.1627],\n",
      "        [ 0.3768, -0.6339]])\n",
      "torch.FloatTensor\n"
     ]
    }
   ],
   "source": [
    "d = torch.Tensor(2, 2)\n",
    "print(d)\n",
    "print(d.uniform_(-1, 1))\n",
    "print(d.type())"
   ]
  },
  {
   "cell_type": "markdown",
   "metadata": {},
   "source": [
    "#### 1.14 torch.randperm\n",
    "\n",
    "- 随机打乱指定的数据"
   ]
  },
  {
   "cell_type": "code",
   "execution_count": 17,
   "metadata": {
    "pycharm": {
     "name": "#%%\n"
    }
   },
   "outputs": [
    {
     "name": "stdout",
     "output_type": "stream",
     "text": [
      "torch.LongTensor\n",
      "tensor([6, 3, 4, 2, 0, 5, 9, 1, 8, 7])\n"
     ]
    }
   ],
   "source": [
    "d = torch.randperm(10)\n",
    "print(d.type())\n",
    "print(d.type_as(a))"
   ]
  },
  {
   "cell_type": "markdown",
   "metadata": {
    "pycharm": {
     "name": "#%% md\n"
    }
   },
   "source": [
    "### 2. Tensor Property\n",
    "\n",
    "- 每一个Tensor有torch.dtype、torch.device、torch.layout三种属性。\n",
    "    1. device : 表示GPU的设备, 通常用 conda:0, conda1, ... 表示\n",
    "    2. torch.device(\"cpu\") 定义将 tensor 放到cpu中\n",
    "- torch.device标识了torch.Tensor对象在创建之后所存储在的设备名称\n",
    "- torch.layout表示torch.Tensor内存布局的对象。"
   ]
  },
  {
   "cell_type": "markdown",
   "metadata": {},
   "source": [
    "#### 2.1 稀疏张量的表示\n",
    "\n",
    "- torch.sparse_coo_tensor\n",
    "    1. indices : 坐标 => [[1,2,3], [0,0,0]] = (1,0) (2,0) (3,0)\n",
    "    2. size : shape\n",
    "    3. values : 稀疏矩阵值"
   ]
  },
  {
   "cell_type": "code",
   "execution_count": 18,
   "metadata": {
    "pycharm": {
     "name": "#%%\n"
    }
   },
   "outputs": [],
   "source": [
    "import torch\n",
    "\n",
    "# 定义将 tensor 放到cpu中\n",
    "dev = torch.device(\"cpu\")\n",
    "# 定义将 tensor 放到Gpu中\n",
    "# dev = torch.device(\"cuda\")"
   ]
  },
  {
   "cell_type": "markdown",
   "metadata": {},
   "source": [
    "- 将tensor放到cpu中"
   ]
  },
  {
   "cell_type": "code",
   "execution_count": 19,
   "metadata": {
    "pycharm": {
     "name": "#%%\n"
    }
   },
   "outputs": [
    {
     "name": "stdout",
     "output_type": "stream",
     "text": [
      "tensor([2., 2.])\n"
     ]
    }
   ],
   "source": [
    "a = torch.tensor([2, 2],\n",
    "                 dtype=torch.float32,\n",
    "                 device=dev)\n",
    "print(a)"
   ]
  },
  {
   "cell_type": "code",
   "execution_count": 20,
   "metadata": {
    "pycharm": {
     "name": "#%%\n"
    }
   },
   "outputs": [
    {
     "name": "stdout",
     "output_type": "stream",
     "text": [
      "tensor(indices=tensor([[0, 1, 2, 3],\n",
      "                       [0, 1, 2, 3]]),\n",
      "       values=tensor([1., 2., 3., 4.]),\n",
      "       size=(4, 4), nnz=4, layout=torch.sparse_coo)\n"
     ]
    }
   ],
   "source": [
    "i = torch.tensor([[0, 1, 2, 3], [0, 1, 2, 3]])\n",
    "v = torch.tensor([1, 2, 3, 4])\n",
    "a = torch.sparse_coo_tensor(indices=i, values=v, size=(4, 4),\n",
    "                            dtype=torch.float32,\n",
    "                            device=dev)\n",
    "print(a)"
   ]
  },
  {
   "cell_type": "markdown",
   "metadata": {},
   "source": [
    "#### 2.2 稀疏矩阵转稠密矩阵"
   ]
  },
  {
   "cell_type": "code",
   "execution_count": 21,
   "metadata": {
    "pycharm": {
     "name": "#%%\n"
    }
   },
   "outputs": [
    {
     "name": "stdout",
     "output_type": "stream",
     "text": [
      "torch.sparse.FloatTensor\n",
      "tensor(indices=tensor([[0, 1, 2],\n",
      "                       [0, 1, 2]]),\n",
      "       values=tensor([1., 2., 3.]),\n",
      "       size=(4, 4), nnz=3, layout=torch.sparse_coo)\n",
      "tensor([[1., 0., 0., 0.],\n",
      "        [0., 2., 0., 0.],\n",
      "        [0., 0., 3., 0.],\n",
      "        [0., 0., 0., 0.]])\n"
     ]
    }
   ],
   "source": [
    "i = torch.tensor([[0, 1, 2], [0, 1, 2]])\n",
    "v = torch.tensor([1, 2, 3])\n",
    "a = torch.sparse_coo_tensor(i, v, (4, 4),\n",
    "                            dtype=torch.float32,\n",
    "                            device=dev)\n",
    "print(a.type())\n",
    "print(a)\n",
    "# 转稠密矩阵\n",
    "print(a.to_dense())"
   ]
  },
  {
   "cell_type": "markdown",
   "metadata": {
    "pycharm": {
     "name": "#%% md\n"
    }
   },
   "source": [
    "### 3. Tensor operator\n",
    "\n",
    "- 本章节介绍Tensor的基本运算"
   ]
  },
  {
   "cell_type": "markdown",
   "metadata": {},
   "source": [
    "#### 3.1 加法运算\n",
    "\n",
    "- 加法运算直接返回结果\n",
    "    - a + b\n",
    "    - a.add(b)\n",
    "    - torch.add(a, b)\n",
    "- 修改原先的值\n",
    "    - a.add_(b) : 会将a+b的结果直接赋值给a"
   ]
  },
  {
   "cell_type": "code",
   "execution_count": 22,
   "metadata": {
    "pycharm": {
     "name": "#%%\n"
    }
   },
   "outputs": [
    {
     "name": "stdout",
     "output_type": "stream",
     "text": [
      "tensor([1, 2, 3])\n",
      "tensor([4, 5, 6])\n"
     ]
    }
   ],
   "source": [
    "a = torch.tensor([1,2,3])\n",
    "b = torch.tensor([4,5,6])\n",
    "print(a)\n",
    "print(b)"
   ]
  },
  {
   "cell_type": "code",
   "execution_count": 23,
   "metadata": {
    "pycharm": {
     "name": "#%%\n"
    }
   },
   "outputs": [
    {
     "name": "stdout",
     "output_type": "stream",
     "text": [
      "tensor([5, 7, 9])\n",
      "tensor([5, 7, 9])\n",
      "tensor([5, 7, 9])\n",
      "tensor([1, 2, 3])\n",
      "tensor([5, 7, 9])\n",
      "tensor([5, 7, 9])\n"
     ]
    }
   ],
   "source": [
    "print(a + b)\n",
    "print(a.add(b))\n",
    "print(torch.add(a, b))\n",
    "print(a)\n",
    "# 会修改a的值\n",
    "print(a.add_(b))\n",
    "print(a)"
   ]
  },
  {
   "cell_type": "markdown",
   "metadata": {},
   "source": [
    "#### 3.2 减法运算\n",
    "\n",
    "- 直接返回结果\n",
    "    - a - b\n",
    "    - torch.sub(a, b)\n",
    "    - a.sub(b)\n",
    "- 将返回结果赋值给变量\n",
    "    - a.sub_(b) 将计算的结果赋值给a"
   ]
  },
  {
   "cell_type": "code",
   "execution_count": 24,
   "metadata": {
    "pycharm": {
     "name": "#%%\n"
    }
   },
   "outputs": [
    {
     "name": "stdout",
     "output_type": "stream",
     "text": [
      "tensor([3, 3, 3])\n",
      "tensor([3, 3, 3])\n",
      "tensor([3, 3, 3])\n",
      "tensor([3, 3, 3])\n",
      "tensor([3, 3, 3])\n"
     ]
    }
   ],
   "source": [
    "a = torch.tensor([4,5,6])\n",
    "b = torch.tensor([1,2,3])\n",
    "\n",
    "print(a - b)\n",
    "print(torch.sub(a, b))\n",
    "print(a.sub(b))\n",
    "print(a.sub_(b))\n",
    "print(a)"
   ]
  },
  {
   "cell_type": "markdown",
   "metadata": {},
   "source": [
    "#### 3.3 乘法运算\n",
    "\n",
    "- 注意 : 对应的值乘以对应的值, 并不是矩阵运算\n",
    "- 直接返回结果\n",
    "    1. a * b\n",
    "    2. torch.mul(a, b)\n",
    "    3. a.mul(b)\n",
    "- 将返回的值赋给变量\n",
    "    1. a.mul_(b) 将结果直接赋值给a\n"
   ]
  },
  {
   "cell_type": "code",
   "execution_count": 25,
   "metadata": {
    "pycharm": {
     "name": "#%%\n"
    }
   },
   "outputs": [
    {
     "name": "stdout",
     "output_type": "stream",
     "text": [
      "tensor([[1, 1, 1],\n",
      "        [4, 4, 4],\n",
      "        [9, 9, 9]])\n",
      "tensor([[1, 1, 1],\n",
      "        [4, 4, 4],\n",
      "        [9, 9, 9]])\n",
      "tensor([[1, 1, 1],\n",
      "        [4, 4, 4],\n",
      "        [9, 9, 9]])\n",
      "tensor([[1, 1, 1],\n",
      "        [2, 2, 2],\n",
      "        [3, 3, 3]])\n",
      "tensor([[1, 1, 1],\n",
      "        [4, 4, 4],\n",
      "        [9, 9, 9]])\n",
      "tensor([[1, 1, 1],\n",
      "        [4, 4, 4],\n",
      "        [9, 9, 9]])\n"
     ]
    }
   ],
   "source": [
    "a = torch.tensor([[1,1,1], [2,2,2], [3,3,3]])\n",
    "b = torch.tensor([[1,1,1], [2,2,2], [3,3,3]])\n",
    "\n",
    "print(a * b)\n",
    "print(torch.mul(a, b))\n",
    "print(a.mul(b))\n",
    "print(a)\n",
    "print(a.mul_(b))\n",
    "print(a)"
   ]
  },
  {
   "cell_type": "markdown",
   "metadata": {},
   "source": [
    "#### 3.4 除法运算\n",
    "\n",
    "- 直接返回结果\n",
    "    1. a/b\n",
    "    2. torch.div(a, b)\n",
    "    3. a.div(b)\n",
    "- 将返回结果赋值给指定变量\n",
    "    1. a.div_(b)"
   ]
  },
  {
   "cell_type": "code",
   "execution_count": 26,
   "metadata": {
    "pycharm": {
     "name": "#%%\n"
    }
   },
   "outputs": [
    {
     "name": "stdout",
     "output_type": "stream",
     "text": [
      "tensor([[0.5000, 0.5000, 0.5000],\n",
      "        [1.0000, 1.0000, 1.0000],\n",
      "        [1.5000, 1.5000, 1.5000]])\n",
      "tensor([[0.5000, 0.5000, 0.5000],\n",
      "        [1.0000, 1.0000, 1.0000],\n",
      "        [1.5000, 1.5000, 1.5000]])\n",
      "tensor([[0.5000, 0.5000, 0.5000],\n",
      "        [1.0000, 1.0000, 1.0000],\n",
      "        [1.5000, 1.5000, 1.5000]])\n",
      "tensor([[0.5000, 0.5000, 0.5000],\n",
      "        [1.0000, 1.0000, 1.0000],\n",
      "        [1.5000, 1.5000, 1.5000]])\n",
      "tensor([[0.5000, 0.5000, 0.5000],\n",
      "        [1.0000, 1.0000, 1.0000],\n",
      "        [1.5000, 1.5000, 1.5000]])\n"
     ]
    }
   ],
   "source": [
    "a = torch.tensor([[1,1,1], [2,2,2], [3,3,3]], dtype=torch.float32)\n",
    "b = torch.tensor([[2,2,2], [2,2,2], [2,2,2]], dtype=torch.float32)\n",
    "\n",
    "print(a/b)\n",
    "print(torch.div(a, b))\n",
    "print(a.div(b))\n",
    "print(a.div_(b))\n",
    "print(a)"
   ]
  },
  {
   "cell_type": "markdown",
   "metadata": {},
   "source": [
    "#### 3.5 矩阵运算\n",
    "\n",
    "- 返回计算结果\n",
    "    1. a @ b\n",
    "    2. a.matmul(b)\n",
    "    3. torch.matmul(a, b)\n",
    "    4. torch.mm(a, b)\n",
    "    5. a.mm(b)"
   ]
  },
  {
   "cell_type": "code",
   "execution_count": 27,
   "metadata": {
    "pycharm": {
     "name": "#%%\n"
    }
   },
   "outputs": [
    {
     "name": "stdout",
     "output_type": "stream",
     "text": [
      "tensor([[3, 3],\n",
      "        [6, 6]])\n",
      "tensor([[3, 3],\n",
      "        [6, 6]])\n",
      "tensor([[3, 3],\n",
      "        [6, 6]])\n",
      "tensor([[3, 3],\n",
      "        [6, 6]])\n",
      "tensor([[3, 3],\n",
      "        [6, 6]])\n"
     ]
    }
   ],
   "source": [
    "a = torch.tensor([[1,1], [2,2]])\n",
    "b = torch.tensor([[1,1], [2,2]])\n",
    "\n",
    "# [1,1] * [1,2] = 3, [2,2] * [1,2] = 6\n",
    "print(a @ b)\n",
    "print(a.matmul(b))\n",
    "print(torch.matmul(a, b))\n",
    "print(torch.mm(a, b))\n",
    "print(a.mm(b))"
   ]
  },
  {
   "cell_type": "markdown",
   "metadata": {},
   "source": [
    "#### 3.6 高维tensor计算"
   ]
  },
  {
   "cell_type": "code",
   "execution_count": 28,
   "metadata": {
    "pycharm": {
     "name": "#%%\n"
    }
   },
   "outputs": [
    {
     "name": "stdout",
     "output_type": "stream",
     "text": [
      "torch.Size([1, 2, 3, 3])\n"
     ]
    }
   ],
   "source": [
    "# 四维向量\n",
    "a = torch.ones(1, 2, 3, 4)\n",
    "b = torch.ones(1, 2, 4, 3)\n",
    "print(a.matmul(b).shape)"
   ]
  },
  {
   "cell_type": "markdown",
   "metadata": {},
   "source": [
    "#### 3.7 torch.pow\n",
    "\n",
    "- pow(var, n) 计算var的n次方\n",
    "- 直接返回结果\n",
    "    1. torch.pow(a, 3)\n",
    "    2. a.pow(3)\n",
    "    3. a**3\n",
    "- a.pow_(3)\n",
    "    1. 直接返回结果, 然后将结果赋值给变量a"
   ]
  },
  {
   "cell_type": "code",
   "execution_count": 29,
   "metadata": {
    "pycharm": {
     "name": "#%%\n"
    }
   },
   "outputs": [
    {
     "name": "stdout",
     "output_type": "stream",
     "text": [
      "tensor([1, 8])\n",
      "tensor([1, 8])\n",
      "tensor([1, 8])\n",
      "tensor([1, 8])\n",
      "tensor([1, 8])\n"
     ]
    }
   ],
   "source": [
    "a = torch.tensor([1, 2])\n",
    "print(torch.pow(a, 3))\n",
    "print(a.pow(3))\n",
    "print(a**3)\n",
    "print(a.pow_(3))\n",
    "print(a)"
   ]
  },
  {
   "cell_type": "markdown",
   "metadata": {},
   "source": [
    "#### 3.8 torch.exp"
   ]
  },
  {
   "cell_type": "code",
   "execution_count": 30,
   "metadata": {
    "pycharm": {
     "name": "#%%\n"
    }
   },
   "outputs": [
    {
     "name": "stdout",
     "output_type": "stream",
     "text": [
      "torch.FloatTensor\n",
      "tensor([2.7183, 7.3891])\n",
      "tensor([2.7183, 7.3891])\n",
      "tensor([  15.1543, 1618.1781])\n",
      "tensor([  15.1543, 1618.1781])\n"
     ]
    }
   ],
   "source": [
    "a = torch.tensor([1, 2],\n",
    "                 dtype=torch.float32)\n",
    "print(a.type())\n",
    "print(torch.exp(a))\n",
    "print(torch.exp_(a))\n",
    "print(a.exp())\n",
    "print(a.exp_())"
   ]
  },
  {
   "cell_type": "markdown",
   "metadata": {
    "pycharm": {
     "name": "#%% md\n"
    }
   },
   "source": [
    "#### 3.9 torch.log"
   ]
  },
  {
   "cell_type": "code",
   "execution_count": 31,
   "metadata": {
    "pycharm": {
     "name": "#%%\n"
    }
   },
   "outputs": [
    {
     "name": "stdout",
     "output_type": "stream",
     "text": [
      "tensor([2.3026, 0.6931])\n",
      "tensor([2.3026, 0.6931])\n",
      "tensor([ 0.8340, -0.3665])\n",
      "tensor([ 0.8340, -0.3665])\n"
     ]
    }
   ],
   "source": [
    "a = torch.tensor([10, 2],\n",
    "                 dtype=torch.float32)\n",
    "print(torch.log(a))\n",
    "print(torch.log_(a))\n",
    "print(a.log())\n",
    "print(a.log_())"
   ]
  },
  {
   "cell_type": "markdown",
   "metadata": {},
   "source": [
    "#### 3.10 torch.sqrt"
   ]
  },
  {
   "cell_type": "code",
   "execution_count": 32,
   "metadata": {
    "pycharm": {
     "name": "#%%\n"
    }
   },
   "outputs": [
    {
     "name": "stdout",
     "output_type": "stream",
     "text": [
      "tensor([3.1623, 1.4142])\n",
      "tensor([3.1623, 1.4142])\n",
      "tensor([1.7783, 1.1892])\n",
      "tensor([1.7783, 1.1892])\n"
     ]
    }
   ],
   "source": [
    "a = torch.tensor([10, 2],\n",
    "                 dtype=torch.float32)\n",
    "print(torch.sqrt(a))\n",
    "print(torch.sqrt_(a))\n",
    "\n",
    "print(a.sqrt())\n",
    "print(a.sqrt_())"
   ]
  }
 ],
 "metadata": {
  "kernelspec": {
   "display_name": "Python 3 (ipykernel)",
   "language": "python",
   "name": "python3"
  },
  "language_info": {
   "codemirror_mode": {
    "name": "ipython",
    "version": 3
   },
   "file_extension": ".py",
   "mimetype": "text/x-python",
   "name": "python",
   "nbconvert_exporter": "python",
   "pygments_lexer": "ipython3",
   "version": "3.7.11"
  }
 },
 "nbformat": 4,
 "nbformat_minor": 1
}