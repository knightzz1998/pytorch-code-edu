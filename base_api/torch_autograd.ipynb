{
 "cells": [
  {
   "cell_type": "markdown",
   "metadata": {
    "collapsed": true,
    "pycharm": {
     "name": "#%% md\n"
    }
   },
   "source": [
    "### 1. AutoGrad的概念\n",
    "\n",
    "- torch.autograd.grad(outputs, inputs, grad_ outputs=None, retain graph= None,create_ graph=False, only_ inputs =True, allow_ unused= False)\n",
    "计算和返回output关 于inputs的梯度的和。\n",
    "    1. outputs :函数的因变量，即需要求导的那个函数\n",
    "    2. inputs :函数的自变量,\n",
    "    3. grad_ _outputs :同backward\n",
    "    4. only_ inputs:只计算input的梯度\n",
    "    5. allow_ unused( bool,可选) :如果为False,当计算输出出错时(因此他们的梯度永远是0)指明不使用的inputs。\n",
    "\n",
    "- torch.autograd 包中的其他函数\n",
    "    1. torch.autograd.enable_grad:启动梯度计算的上下文管理器\n",
    "    2. torch.autograd.no_grad :禁止梯度计算的上下文管理器\n",
    "    3. torch.autograd.set_ grad. enabled(mode):设置是否进行梯度计算的上下文管\n",
    "理器。\n",
    "\n",
    "\n",
    "- torch.autograd.Function\n",
    "    1. 每一个原始的自动求导运算实际上是两个在Tensor上运行的函数\n",
    "    2. forward函数计算从输入Tensors获得的输出Tensors\n",
    "    3. backward函数接收输出Tensors对于某个标量值的梯度,并且计算输入Tensors相对于该相同标量值的梯度\n",
    "    4. 最后,利用apply方法执行相应的运算定义在Function类的父类FunctionBase中定义的一 个方法"
   ]
  },
  {
   "cell_type": "code",
   "execution_count": 1,
   "outputs": [
    {
     "name": "stdout",
     "output_type": "stream",
     "text": [
      "tensor([[0.3640, 0.6521],\n",
      "        [0.1539, 0.1443]], requires_grad=True) tensor([[0.5786, 0.1190],\n",
      "        [0.8746, 0.0234]], requires_grad=True) tensor([[0.1918, 0.7185],\n",
      "        [0.8414, 0.8347]], requires_grad=True)\n",
      "tensor([[0.5786, 0.1190],\n",
      "        [0.8746, 0.0234]]) tensor([[0.3640, 0.6521],\n",
      "        [0.1539, 0.1443]]) tensor([[1., 1.],\n",
      "        [1., 1.]])\n"
     ]
    }
   ],
   "source": [
    "import torch\n",
    "\n",
    "class line(torch.autograd.Function):\n",
    "\n",
    "    @staticmethod\n",
    "    def forward(ctx, w, x, b):\n",
    "        \"\"\"\n",
    "            前向传播\n",
    "        :param ctx:\n",
    "        :param w:\n",
    "        :param x:\n",
    "        :param b:\n",
    "        :return:\n",
    "        \"\"\"\n",
    "        #y = w*x +b\n",
    "        # 将变量存储\n",
    "        ctx.save_for_backward(w, x, b)\n",
    "        return w * x + b\n",
    "\n",
    "\n",
    "    @staticmethod\n",
    "    def backward(ctx, grad_out):\n",
    "        \"\"\"\n",
    "            反向传播\n",
    "        :param ctx:\n",
    "        :param grad_out:\n",
    "        :return:\n",
    "        \"\"\"\n",
    "        # 获取在forward中存储的变量\n",
    "        w, x, b = ctx.saved_tensors\n",
    "\n",
    "        grad_w = grad_out * x\n",
    "        grad_x = grad_out * w\n",
    "        grad_b = grad_out\n",
    "\n",
    "        return grad_w, grad_x, grad_b\n",
    "\n",
    "\n",
    "w = torch.rand(2, 2, requires_grad=True)\n",
    "x = torch.rand(2, 2, requires_grad=True)\n",
    "b = torch.rand(2, 2, requires_grad=True)\n",
    "\n",
    "out = line.apply(w, x, b)\n",
    "out.backward(torch.ones(2, 2))\n",
    "\n",
    "print(w, x, b)\n",
    "print(w.grad, x.grad, b.grad)"
   ],
   "metadata": {
    "collapsed": false,
    "pycharm": {
     "name": "#%%\n"
    }
   }
  },
  {
   "cell_type": "code",
   "execution_count": null,
   "outputs": [],
   "source": [],
   "metadata": {
    "collapsed": false,
    "pycharm": {
     "name": "#%%\n"
    }
   }
  }
 ],
 "metadata": {
  "kernelspec": {
   "display_name": "Python 3",
   "language": "python",
   "name": "python3"
  },
  "language_info": {
   "codemirror_mode": {
    "name": "ipython",
    "version": 2
   },
   "file_extension": ".py",
   "mimetype": "text/x-python",
   "name": "python",
   "nbconvert_exporter": "python",
   "pygments_lexer": "ipython2",
   "version": "2.7.6"
  }
 },
 "nbformat": 4,
 "nbformat_minor": 0
}