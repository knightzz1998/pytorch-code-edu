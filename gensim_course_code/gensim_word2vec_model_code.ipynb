{
 "cells": [
  {
   "cell_type": "code",
   "execution_count": 1,
   "metadata": {
    "collapsed": true
   },
   "outputs": [],
   "source": [
    "from gensim.models import Word2Vec\n",
    "import pandas as pd\n",
    "import numpy as np"
   ]
  },
  {
   "cell_type": "code",
   "execution_count": 2,
   "outputs": [],
   "source": [
    "model = Word2Vec.load(\"../out_dir/word2vec.model\")"
   ],
   "metadata": {
    "collapsed": false,
    "pycharm": {
     "name": "#%%\n"
    }
   }
  },
  {
   "cell_type": "code",
   "execution_count": 3,
   "outputs": [
    {
     "name": "stdout",
     "output_type": "stream",
     "text": [
      "Word2Vec(vocab=201753, vector_size=300, alpha=0.025)\n"
     ]
    }
   ],
   "source": [
    "print(model)"
   ],
   "metadata": {
    "collapsed": false,
    "pycharm": {
     "name": "#%%\n"
    }
   }
  },
  {
   "cell_type": "code",
   "execution_count": 5,
   "outputs": [
    {
     "data": {
      "text/plain": "<gensim.models.keyedvectors.KeyedVectors at 0x1e04d508cc8>"
     },
     "execution_count": 5,
     "metadata": {},
     "output_type": "execute_result"
    }
   ],
   "source": [
    "vectors = model.wv\n",
    "vectors"
   ],
   "metadata": {
    "collapsed": false,
    "pycharm": {
     "name": "#%%\n"
    }
   }
  },
  {
   "cell_type": "code",
   "execution_count": 9,
   "outputs": [
    {
     "data": {
      "text/plain": "numpy.ndarray"
     },
     "execution_count": 9,
     "metadata": {},
     "output_type": "execute_result"
    }
   ],
   "source": [
    "type(vectors.vectors)"
   ],
   "metadata": {
    "collapsed": false,
    "pycharm": {
     "name": "#%%\n"
    }
   }
  },
  {
   "cell_type": "code",
   "execution_count": 11,
   "outputs": [
    {
     "data": {
      "text/plain": "array([[-0.07960369,  0.04473848, -0.00677849, ..., -0.09039017,\n         0.06436863, -0.08235117],\n       [-0.06529462,  0.01508998,  0.01426116, ..., -0.04062453,\n         0.03730721, -0.0962921 ],\n       [ 0.01403169, -0.02741992, -0.07740057, ...,  0.09647208,\n         0.06500885, -0.12682168],\n       [-0.0147886 , -0.05948175, -0.05440816, ...,  0.10948094,\n         0.06187326, -0.09614369],\n       [ 0.01693914, -0.08330592,  0.00353177, ...,  0.09865411,\n         0.0311062 , -0.12492971]], dtype=float32)"
     },
     "execution_count": 11,
     "metadata": {},
     "output_type": "execute_result"
    }
   ],
   "source": [
    "# 201753 * 300 的向量矩阵\n",
    "vectors.vectors[:5]"
   ],
   "metadata": {
    "collapsed": false,
    "pycharm": {
     "name": "#%%\n"
    }
   }
  },
  {
   "cell_type": "code",
   "execution_count": 15,
   "outputs": [
    {
     "name": "stdout",
     "output_type": "stream",
     "text": [
      "['[', ']', '/', '@', ':', '泪', '~', '嘻嘻', '#', '爱']\n",
      "<class 'list'>\n",
      "[\n",
      "]\n",
      "/\n"
     ]
    }
   ],
   "source": [
    "# 单词词表,\n",
    "print(vectors.index_to_key[:10])\n",
    "print(type(vectors.index_to_key))\n",
    "\n",
    "print(vectors.index_to_key[0])\n",
    "print(vectors.index_to_key[1])\n",
    "print(vectors.index_to_key[2])"
   ],
   "metadata": {
    "collapsed": false,
    "pycharm": {
     "name": "#%%\n"
    }
   }
  },
  {
   "cell_type": "code",
   "execution_count": 21,
   "outputs": [
    {
     "name": "stdout",
     "output_type": "stream",
     "text": [
      "<class 'dict'>\n",
      "201753\n",
      "[ 0\n",
      "] 1\n",
      "/ 2\n",
      "@ 3\n",
      ": 4\n",
      "泪 5\n",
      "~ 6\n",
      "嘻嘻 7\n",
      "# 8\n",
      "爱 9\n"
     ]
    }
   ],
   "source": [
    "# 词袋, 带索引\n",
    "print(type(vectors.key_to_index))\n",
    "print(len(vectors.key_to_index))\n",
    "for key, index in vectors.key_to_index.items():\n",
    "    if index < 10:\n",
    "        print(key, index)"
   ],
   "metadata": {
    "collapsed": false,
    "pycharm": {
     "name": "#%%\n"
    }
   }
  },
  {
   "cell_type": "code",
   "execution_count": 26,
   "outputs": [
    {
     "name": "stdout",
     "output_type": "stream",
     "text": [
      "[-0.07960369  0.04473848 -0.00677849  0.02826606 -0.0536666  -0.02952201\n",
      "  0.08609938  0.08867253 -0.03245846 -0.04782206]\n",
      "[-0.07960369  0.04473848 -0.00677849  0.02826606 -0.0536666  -0.02952201\n",
      "  0.08609938  0.08867253 -0.03245846 -0.04782206]\n"
     ]
    }
   ],
   "source": [
    "# 词表索引顺序和向量表对应\n",
    "print(vectors['['][:10])\n",
    "print(vectors.vectors[0][:10])"
   ],
   "metadata": {
    "collapsed": false,
    "pycharm": {
     "name": "#%%\n"
    }
   }
  },
  {
   "cell_type": "code",
   "execution_count": 27,
   "outputs": [],
   "source": [
    "import torch\n",
    "from torch import nn\n",
    "\n",
    "\n",
    "class RNNModel(nn.Module):\n",
    "    def __init__(self, vectors):\n",
    "        super().__init__()\n",
    "        self.embedding = nn.Embedding.from_pretrained(vectors)\n",
    "\n",
    "    def forward(self, x):\n",
    "        embed = self.embedding(x)\n",
    "        return embed"
   ],
   "metadata": {
    "collapsed": false,
    "pycharm": {
     "name": "#%%\n"
    }
   }
  },
  {
   "cell_type": "code",
   "execution_count": 28,
   "outputs": [
    {
     "name": "stdout",
     "output_type": "stream",
     "text": [
      "<class 'torch.Tensor'>\n"
     ]
    }
   ],
   "source": [
    "weights = torch.FloatTensor(vectors.vectors)\n",
    "print(type(weights))"
   ],
   "metadata": {
    "collapsed": false,
    "pycharm": {
     "name": "#%%\n"
    }
   }
  },
  {
   "cell_type": "code",
   "execution_count": 33,
   "outputs": [
    {
     "name": "stdout",
     "output_type": "stream",
     "text": [
      "torch.Size([64, 10, 300])\n"
     ]
    }
   ],
   "source": [
    "rnn_model = RNNModel(weights)\n",
    "input_tensor = torch.tensor([i for i in range(640)]).reshape([64, 10]) # 生成一个每个句子长度是10, 64行的数据\n",
    "res = rnn_model.forward(input_tensor)\n",
    "print(res.size())"
   ],
   "metadata": {
    "collapsed": false,
    "pycharm": {
     "name": "#%%\n"
    }
   }
  },
  {
   "cell_type": "code",
   "execution_count": 54,
   "outputs": [
    {
     "data": {
      "text/plain": "array([[0., 0.],\n       [0., 0.],\n       [0., 0.]])"
     },
     "execution_count": 54,
     "metadata": {},
     "output_type": "execute_result"
    }
   ],
   "source": [
    "data = np.ndarray([3,2])\n",
    "data"
   ],
   "metadata": {
    "collapsed": false,
    "pycharm": {
     "name": "#%%\n"
    }
   }
  },
  {
   "cell_type": "code",
   "execution_count": 66,
   "outputs": [
    {
     "data": {
      "text/plain": "array([[0., 0.],\n       [0., 0.],\n       [0., 0.],\n       [0., 0.],\n       [0., 0.]])"
     },
     "execution_count": 66,
     "metadata": {},
     "output_type": "execute_result"
    }
   ],
   "source": [
    "UNK = np.zeros(2)\n",
    "PAD = np.zeros(2)\n",
    "\n",
    "new_data = np.vstack((data, UNK, PAD))\n",
    "new_data"
   ],
   "metadata": {
    "collapsed": false,
    "pycharm": {
     "name": "#%%\n"
    }
   }
  },
  {
   "cell_type": "code",
   "execution_count": null,
   "outputs": [],
   "source": [],
   "metadata": {
    "collapsed": false,
    "pycharm": {
     "name": "#%%\n"
    }
   }
  }
 ],
 "metadata": {
  "kernelspec": {
   "display_name": "Python 3",
   "language": "python",
   "name": "python3"
  },
  "language_info": {
   "codemirror_mode": {
    "name": "ipython",
    "version": 2
   },
   "file_extension": ".py",
   "mimetype": "text/x-python",
   "name": "python",
   "nbconvert_exporter": "python",
   "pygments_lexer": "ipython2",
   "version": "2.7.6"
  }
 },
 "nbformat": 4,
 "nbformat_minor": 0
}