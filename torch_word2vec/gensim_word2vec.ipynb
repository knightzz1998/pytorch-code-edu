{
 "cells": [
  {
   "cell_type": "markdown",
   "metadata": {
    "collapsed": true,
    "pycharm": {
     "name": "#%% md\n"
    }
   },
   "source": [
    "### 使用 gensim 训练word2vec词向量"
   ]
  },
  {
   "cell_type": "code",
   "execution_count": 7,
   "outputs": [],
   "source": [
    "import pandas as pd\n",
    "import jieba\n",
    "import os\n",
    "from gensim.models.word2vec import Word2Vec"
   ],
   "metadata": {
    "collapsed": false,
    "pycharm": {
     "name": "#%%\n"
    }
   }
  },
  {
   "cell_type": "code",
   "execution_count": 3,
   "outputs": [
    {
     "data": {
      "text/plain": "0                ﻿更博了，爆照了，帅的呀，就是越来越爱你！生快傻缺[爱你][爱你][爱你]\n1    @张晓鹏jonathan 土耳其的事要认真对待[哈哈]，否则直接开除。@丁丁看世界 很是细心...\n2    姑娘都羡慕你呢…还有招财猫高兴……//@爱在蔓延-JC:[哈哈]小学徒一枚，等着明天见您呢/...\n3                                           美~~~~~[爱你]\n4                                    梦想有多大，舞台就有多大![鼓掌]\nName: review, dtype: object"
     },
     "execution_count": 3,
     "metadata": {},
     "output_type": "execute_result"
    }
   ],
   "source": [
    "review_data = pd.read_csv(\"../data/weibo_senti_100k.csv\", encoding=\"utf-8\")['review']\n",
    "review_data.head()"
   ],
   "metadata": {
    "collapsed": false,
    "pycharm": {
     "name": "#%%\n"
    }
   }
  },
  {
   "cell_type": "code",
   "execution_count": 5,
   "outputs": [
    {
     "name": "stdout",
     "output_type": "stream",
     "text": [
      "749\n",
      "['$', '0', '1', '2', '3']\n"
     ]
    }
   ],
   "source": [
    "stop_words = open(\"../data/cn_stopwords.txt\", \"r\", encoding=\"utf-8\").readlines()\n",
    "stop_words = [word.strip() for word in stop_words]\n",
    "stop_words.append('')\n",
    "stop_words.append(' ')\n",
    "stop_words.append('\\n')\n",
    "print(len(stop_words))\n",
    "print(stop_words[:5])"
   ],
   "metadata": {
    "collapsed": false,
    "pycharm": {
     "name": "#%%\n"
    }
   }
  },
  {
   "cell_type": "code",
   "execution_count": 8,
   "outputs": [
    {
     "name": "stderr",
     "output_type": "stream",
     "text": [
      "Building prefix dict from the default dictionary ...\n",
      "Loading model from cache C:\\Users\\WANGTI~1\\AppData\\Local\\Temp\\jieba.cache\n",
      "Loading model cost 0.657 seconds.\n",
      "Prefix dict has been built successfully.\n"
     ]
    },
    {
     "name": "stdout",
     "output_type": "stream",
     "text": [
      "119988\n"
     ]
    }
   ],
   "source": [
    "# 对数据进行分词\n",
    "sentence_cut_list = []\n",
    "for sentence in review_data:\n",
    "    # 去除左右空格\n",
    "    sentence = sentence.strip()\n",
    "    # 分词\n",
    "    seq_list = jieba.cut(sentence, cut_all=False)\n",
    "    seq_res = []\n",
    "    for seq in seq_list:\n",
    "        if seq in stop_words:\n",
    "            continue\n",
    "        seq_res.append(seq)\n",
    "    sentence_cut_list.append(seq_res)\n",
    "print(len(sentence_cut_list))"
   ],
   "metadata": {
    "collapsed": false,
    "pycharm": {
     "name": "#%%\n"
    }
   }
  },
  {
   "cell_type": "code",
   "execution_count": 9,
   "outputs": [
    {
     "data": {
      "text/plain": "[['\\ufeff',\n  '更博',\n  '爆照',\n  '帅',\n  '越来越',\n  '爱',\n  '生快',\n  '傻',\n  '缺',\n  '[',\n  '爱',\n  ']',\n  '[',\n  '爱',\n  ']',\n  '[',\n  '爱',\n  ']'],\n ['@',\n  '张晓鹏',\n  'jonathan',\n  '土耳其',\n  '事要',\n  '认真对待',\n  '[',\n  ']',\n  '直接',\n  '开除',\n  '@',\n  '丁丁',\n  '世界',\n  '细心',\n  '酒店',\n  'OK'],\n ['姑娘',\n  '羡慕',\n  '…',\n  '招财猫',\n  '高兴',\n  '…',\n  '…',\n  '/',\n  '/',\n  '@',\n  '爱',\n  '蔓延',\n  '-',\n  'JC',\n  ':',\n  '[',\n  ']',\n  '学徒',\n  '一枚',\n  '明天',\n  '见',\n  '/',\n  '/',\n  '@',\n  '李欣芸',\n  'SharonLee',\n  ':',\n  '大佬',\n  '范儿',\n  '[',\n  '书呆子',\n  ']']]"
     },
     "execution_count": 9,
     "metadata": {},
     "output_type": "execute_result"
    }
   ],
   "source": [
    "sentence_cut_list[:3]"
   ],
   "metadata": {
    "collapsed": false,
    "pycharm": {
     "name": "#%%\n"
    }
   }
  },
  {
   "cell_type": "code",
   "execution_count": 10,
   "outputs": [],
   "source": [
    "# 设定词向量训练的参数\n",
    "num_features = 300    # 词向量的维度\n",
    "min_word_count = 40   # 最小的单词数\n",
    "num_workers = 4       # 线程数\n",
    "context = 10          # 上下文窗口大小"
   ],
   "metadata": {
    "collapsed": false,
    "pycharm": {
     "name": "#%%\n"
    }
   }
  },
  {
   "cell_type": "code",
   "execution_count": 18,
   "outputs": [
    {
     "name": "stderr",
     "output_type": "stream",
     "text": [
      "D:\\DevApp\\anaconda3\\envs\\torch-course-code\\lib\\site-packages\\ipykernel_launcher.py:4: DeprecationWarning: Call to deprecated `init_sims` (Gensim 4.0.0 implemented internal optimizations that make calls to init_sims() unnecessary. init_sims() is now obsoleted and will be completely removed in future versions. See https://github.com/RaRe-Technologies/gensim/wiki/Migrating-from-Gensim-3.x-to-4).\n",
      "  after removing the cwd from sys.path.\n"
     ]
    }
   ],
   "source": [
    "model = Word2Vec(sentence_cut_list, workers=num_workers,\n",
    "                 vector_size=num_features, min_count = min_word_count,\n",
    "                 window = context)\n",
    "model.init_sims(replace=True)\n",
    "model.save(\"../out_dir/word2vec.model\")"
   ],
   "metadata": {
    "collapsed": false,
    "pycharm": {
     "name": "#%%\n"
    }
   }
  },
  {
   "cell_type": "code",
   "execution_count": 21,
   "outputs": [
    {
     "data": {
      "text/plain": "[('帅', 0.0004354505),\n ('夜千', 0.00031023467),\n ('night', 0.00030464306),\n ('组合', 0.00028996187),\n ('威武', 0.00028367087),\n ('哼哼', 0.00028320987),\n ('酷', 0.00028053677),\n ('花心', 0.000275052),\n ('帅气', 0.00027003844),\n ('好听', 0.00026634455)]"
     },
     "execution_count": 21,
     "metadata": {},
     "output_type": "execute_result"
    }
   ],
   "source": [
    "word2vec_model = Word2Vec.load(\"../out_dir/word2vec.model\")\n",
    "word2vec_model.predict_output_word(['帅'])"
   ],
   "metadata": {
    "collapsed": false,
    "pycharm": {
     "name": "#%%\n"
    }
   }
  },
  {
   "cell_type": "code",
   "execution_count": 25,
   "outputs": [
    {
     "data": {
      "text/plain": "array([-2.02073175e-02, -8.58505908e-03,  5.01995012e-02,  2.86155008e-02,\n       -3.32855210e-02, -7.22161680e-02,  1.67416167e-02, -1.65169016e-02,\n       -9.88638401e-02, -7.76550174e-02,  2.58547924e-02,  3.50956880e-02,\n       -6.32177964e-02, -6.08485751e-03, -8.09701607e-02,  6.20651729e-02,\n       -1.66047495e-02, -2.23584101e-02,  4.24207672e-02, -4.29108366e-03,\n       -2.87506226e-02, -1.09143378e-02, -3.83164957e-02, -7.46205216e-03,\n        9.13354626e-04, -6.38783956e-03,  4.46041264e-02,  1.30476048e-02,\n       -9.08714086e-02, -5.87853976e-03,  4.49670292e-02,  6.90870802e-04,\n        7.64244795e-02, -5.74476831e-02, -1.88916475e-02,  2.30713040e-02,\n       -3.52734551e-02, -1.98989753e-02, -4.01794873e-02, -2.01420337e-02,\n       -2.22034892e-03,  6.89975247e-02, -6.46331608e-02,  4.14755009e-02,\n        1.02841355e-01,  4.28765304e-02, -9.69242491e-03,  2.03673653e-02,\n       -3.09160873e-02,  8.03758577e-02,  1.04790861e-02,  8.90563354e-02,\n       -4.71113175e-02, -3.47944573e-02,  5.94138689e-02, -7.89155066e-02,\n       -1.48220332e-02, -5.95359653e-02, -4.79250066e-02,  3.13182287e-02,\n       -6.91227764e-02,  1.49990292e-02,  9.22712758e-02,  2.43469160e-02,\n        1.39957694e-02, -3.68344109e-03, -3.95717993e-02,  3.33595686e-02,\n       -7.89553002e-02, -3.39423865e-02,  4.09448743e-02,  3.64468880e-02,\n       -1.43511534e-01, -6.70777112e-02,  1.04109824e-01,  1.11725423e-02,\n       -7.29784602e-03, -8.75667948e-03,  2.53319275e-02,  1.66464492e-03,\n       -4.45541590e-02,  3.44448388e-02,  2.64135171e-02,  1.32951392e-02,\n       -8.45687613e-02, -1.09252229e-01,  1.49426162e-01, -4.55312841e-02,\n       -5.14943972e-02,  8.40411186e-02, -1.20522402e-01, -5.74245155e-02,\n        5.10505587e-02, -6.95652142e-02,  2.90916692e-02, -8.62191692e-02,\n       -2.95737572e-03, -4.77980673e-02,  9.99828279e-02,  2.64647901e-02,\n       -2.70748138e-03, -3.59152816e-02, -3.48002203e-02, -4.11642296e-03,\n       -1.20594427e-02, -3.64621431e-02,  5.94643317e-02,  6.02043718e-02,\n       -6.22185916e-02, -3.57624814e-02,  1.28251351e-02, -4.39051799e-02,\n       -1.99669972e-02, -1.61014404e-02,  8.44587048e-04,  3.06568365e-03,\n        1.15415370e-02,  1.06954627e-01, -1.22200295e-01, -6.53659105e-02,\n        4.75402176e-02, -4.58389968e-02,  7.57620111e-02, -1.58388950e-02,\n        5.57616819e-03,  1.18231252e-01, -7.31669143e-02,  2.48858314e-02,\n       -6.43865764e-02,  8.34519491e-02,  4.02628742e-02, -2.26092488e-02,\n        3.74096036e-02, -1.33713141e-01,  2.08300054e-02,  8.60924423e-02,\n       -6.19543493e-02,  1.40364682e-02, -2.04249471e-02,  1.03939526e-01,\n        7.36898705e-02, -2.95757037e-02, -7.92887807e-02,  4.19421867e-02,\n        8.88050497e-02, -4.44806404e-02,  8.39106292e-02,  2.42206181e-04,\n        4.29772399e-02, -4.73153107e-02, -4.67941575e-02, -7.33548030e-02,\n        7.31439739e-02, -1.33695938e-02,  3.12876813e-02,  6.50755316e-02,\n       -3.54578579e-03,  2.00027190e-02,  2.13289633e-02,  2.00800076e-02,\n        3.88549850e-03, -1.91144757e-02,  9.87077281e-02,  6.40361011e-02,\n        1.07589457e-03,  1.88041285e-01,  1.54763199e-02,  1.03932962e-01,\n        1.59866060e-03,  4.45691980e-02,  3.34754102e-02, -5.15422923e-03,\n        5.71031831e-02,  8.40837695e-03,  3.57498117e-02,  9.63920802e-02,\n       -1.98926739e-02,  5.87155297e-02,  3.74640785e-02,  4.12928015e-02,\n       -8.15737247e-02,  1.05842883e-02,  1.12281844e-03, -8.12076312e-03,\n        6.49912879e-02,  2.12461408e-02, -1.35707734e-02, -1.04542198e-02,\n       -1.74702369e-02, -1.20161427e-02,  5.71900569e-02,  2.21608710e-02,\n        5.40384911e-02, -3.45860012e-02, -1.70348063e-02,  2.79387794e-02,\n        3.51486467e-02, -5.53075969e-02, -1.54440999e-01,  3.47391441e-02,\n        1.60302781e-02, -7.49618700e-03,  2.33253278e-02,  1.91102624e-02,\n       -5.83253317e-02, -1.02457358e-02,  5.29762432e-02, -2.91427504e-02,\n       -1.54358167e-02, -9.68622323e-03,  1.60066338e-04,  7.09859654e-02,\n        2.14671697e-02, -7.10685775e-02,  2.59000110e-03, -6.93113059e-02,\n       -6.59920881e-03,  7.52318464e-03,  3.70049402e-02,  3.48449014e-02,\n        2.25647297e-02,  6.28914982e-02,  1.54317036e-01, -9.66843516e-02,\n       -6.67801350e-02, -2.77317781e-02,  1.40777929e-03, -1.02906814e-02,\n        8.30108896e-02, -1.09713350e-03, -5.46701578e-03, -8.71355832e-02,\n        3.69683951e-02, -6.61319047e-02,  4.06623557e-02, -4.56913412e-02,\n       -1.01314820e-01, -8.95575155e-03, -3.21415104e-02, -2.50387751e-02,\n       -7.35305920e-02, -4.65088338e-02, -2.90924776e-02, -1.93171129e-02,\n        3.06287352e-02,  3.65583338e-02,  5.94517812e-02, -7.38223419e-02,\n        6.81404471e-02, -5.80177195e-02,  5.60898408e-02, -1.26305153e-03,\n       -1.54154357e-02, -2.41078697e-02,  2.67281514e-02, -5.29889315e-02,\n        9.62836610e-04, -8.60598236e-02, -8.29320215e-03, -2.88546477e-02,\n       -1.23997718e-01,  2.25246418e-02,  1.39053538e-01, -3.52412462e-02,\n       -7.83467758e-03,  1.64217636e-01,  1.62341595e-02,  1.40479906e-02,\n       -1.28089339e-01, -2.05219425e-02, -6.77805543e-02,  8.61927867e-02,\n        1.59052834e-01,  6.87798411e-02, -7.20336959e-02,  6.89238682e-02,\n       -7.06347749e-02, -5.35338372e-03, -6.15761913e-02,  2.12852210e-02,\n       -2.22887862e-02, -1.31828235e-02, -5.90296537e-02, -3.28883715e-03,\n        1.10753119e-01, -6.91800788e-02,  1.24657154e-02, -6.47818372e-02,\n        8.95395577e-02,  6.07733652e-02,  1.99188404e-02,  6.59308732e-02,\n        3.77487354e-02, -6.91493154e-02, -2.84249205e-02, -5.01908921e-02,\n        3.83875966e-02,  1.43764138e-01,  7.97231495e-03, -8.55861306e-02],\n      dtype=float32)"
     },
     "execution_count": 25,
     "metadata": {},
     "output_type": "execute_result"
    }
   ],
   "source": [
    "word2vec_model.wv['帅']"
   ],
   "metadata": {
    "collapsed": false,
    "pycharm": {
     "name": "#%%\n"
    }
   }
  },
  {
   "cell_type": "code",
   "execution_count": null,
   "outputs": [],
   "source": [],
   "metadata": {
    "collapsed": false,
    "pycharm": {
     "name": "#%%\n"
    }
   }
  }
 ],
 "metadata": {
  "kernelspec": {
   "display_name": "Python 3",
   "language": "python",
   "name": "python3"
  },
  "language_info": {
   "codemirror_mode": {
    "name": "ipython",
    "version": 2
   },
   "file_extension": ".py",
   "mimetype": "text/x-python",
   "name": "python",
   "nbconvert_exporter": "python",
   "pygments_lexer": "ipython2",
   "version": "2.7.6"
  }
 },
 "nbformat": 4,
 "nbformat_minor": 0
}