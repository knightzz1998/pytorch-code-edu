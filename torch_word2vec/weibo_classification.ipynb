{
 "cells": [
  {
   "cell_type": "markdown",
   "metadata": {
    "collapsed": true,
    "pycharm": {
     "name": "#%% md\n"
    }
   },
   "source": [
    "### 微博情感分类"
   ]
  },
  {
   "cell_type": "code",
   "execution_count": 1,
   "outputs": [],
   "source": [
    "import pandas as pd\n",
    "import jieba\n",
    "import os\n",
    "import torch\n",
    "from gensim.models.word2vec import Word2Vec"
   ],
   "metadata": {
    "collapsed": false,
    "pycharm": {
     "name": "#%%\n"
    }
   }
  },
  {
   "cell_type": "code",
   "source": [
    "torch.cuda.is_available()"
   ],
   "metadata": {
    "collapsed": false,
    "pycharm": {
     "name": "#%%\n"
    }
   },
   "execution_count": 2,
   "outputs": [
    {
     "data": {
      "text/plain": "True"
     },
     "execution_count": 2,
     "metadata": {},
     "output_type": "execute_result"
    }
   ]
  },
  {
   "cell_type": "markdown",
   "source": [
    "### 1. 读取数据"
   ],
   "metadata": {
    "collapsed": false
   }
  },
  {
   "cell_type": "code",
   "execution_count": 3,
   "outputs": [
    {
     "data": {
      "text/plain": "   label                                             review\n0      1              ﻿更博了，爆照了，帅的呀，就是越来越爱你！生快傻缺[爱你][爱你][爱你]\n1      1  @张晓鹏jonathan 土耳其的事要认真对待[哈哈]，否则直接开除。@丁丁看世界 很是细心...\n2      1  姑娘都羡慕你呢…还有招财猫高兴……//@爱在蔓延-JC:[哈哈]小学徒一枚，等着明天见您呢/...\n3      1                                         美~~~~~[爱你]\n4      1                                  梦想有多大，舞台就有多大![鼓掌]",
      "text/html": "<div>\n<style scoped>\n    .dataframe tbody tr th:only-of-type {\n        vertical-align: middle;\n    }\n\n    .dataframe tbody tr th {\n        vertical-align: top;\n    }\n\n    .dataframe thead th {\n        text-align: right;\n    }\n</style>\n<table border=\"1\" class=\"dataframe\">\n  <thead>\n    <tr style=\"text-align: right;\">\n      <th></th>\n      <th>label</th>\n      <th>review</th>\n    </tr>\n  </thead>\n  <tbody>\n    <tr>\n      <th>0</th>\n      <td>1</td>\n      <td>﻿更博了，爆照了，帅的呀，就是越来越爱你！生快傻缺[爱你][爱你][爱你]</td>\n    </tr>\n    <tr>\n      <th>1</th>\n      <td>1</td>\n      <td>@张晓鹏jonathan 土耳其的事要认真对待[哈哈]，否则直接开除。@丁丁看世界 很是细心...</td>\n    </tr>\n    <tr>\n      <th>2</th>\n      <td>1</td>\n      <td>姑娘都羡慕你呢…还有招财猫高兴……//@爱在蔓延-JC:[哈哈]小学徒一枚，等着明天见您呢/...</td>\n    </tr>\n    <tr>\n      <th>3</th>\n      <td>1</td>\n      <td>美~~~~~[爱你]</td>\n    </tr>\n    <tr>\n      <th>4</th>\n      <td>1</td>\n      <td>梦想有多大，舞台就有多大![鼓掌]</td>\n    </tr>\n  </tbody>\n</table>\n</div>"
     },
     "execution_count": 3,
     "metadata": {},
     "output_type": "execute_result"
    }
   ],
   "source": [
    "weibo_data = pd.read_csv(\"../data/weibo_senti_100k.csv\")\n",
    "weibo_data.head()"
   ],
   "metadata": {
    "collapsed": false,
    "pycharm": {
     "name": "#%%\n"
    }
   }
  },
  {
   "cell_type": "code",
   "execution_count": 4,
   "outputs": [],
   "source": [
    "weibo_labels = weibo_data['label']\n",
    "weibo_review = weibo_data['review']"
   ],
   "metadata": {
    "collapsed": false,
    "pycharm": {
     "name": "#%%\n"
    }
   }
  },
  {
   "cell_type": "markdown",
   "source": [
    "### 2. 对数据进行分词并过滤停用词"
   ],
   "metadata": {
    "collapsed": false
   }
  },
  {
   "cell_type": "code",
   "execution_count": 5,
   "outputs": [
    {
     "name": "stdout",
     "output_type": "stream",
     "text": [
      "755\n",
      "['[', ']', '\\\\']\n"
     ]
    }
   ],
   "source": [
    "# 读取停用词\n",
    "stop_words = open(\"../data/cn_stopwords.txt\", \"r\", encoding=\"utf-8\").readlines()\n",
    "stop_words = [word.strip() for word in stop_words]\n",
    "stop_words.append(\" \")\n",
    "stop_words.append(\"\\n\")\n",
    "\n",
    "print(len(stop_words))\n",
    "print(stop_words[:3])"
   ],
   "metadata": {
    "collapsed": false,
    "pycharm": {
     "name": "#%%\n"
    }
   }
  },
  {
   "cell_type": "code",
   "execution_count": 6,
   "outputs": [
    {
     "name": "stderr",
     "output_type": "stream",
     "text": [
      "Building prefix dict from the default dictionary ...\n",
      "Loading model from cache C:\\Users\\WANGTI~1\\AppData\\Local\\Temp\\jieba.cache\n",
      "Loading model cost 0.601 seconds.\n",
      "Prefix dict has been built successfully.\n"
     ]
    },
    {
     "name": "stdout",
     "output_type": "stream",
     "text": [
      "119945\n",
      "119945\n",
      "[['\\ufeff', '更博', '爆照', '帅', '越来越', '爱', '生快', '傻', '缺', '爱', '爱', '爱'], ['张晓鹏', 'jonathan', '土耳其', '事要', '认真对待', '直接', '开除', '丁丁', '世界', '细心', '酒店', 'OK']]\n",
      "[1, 1]\n"
     ]
    }
   ],
   "source": [
    "dataset_len = len(weibo_labels)\n",
    "\n",
    "review_data_list = []\n",
    "label_data_list = []\n",
    "\n",
    "for i in range(dataset_len):\n",
    "    # 对每行句子去除左右的空格\n",
    "    sentence = weibo_review[i].strip()\n",
    "    label = weibo_labels[i]\n",
    "    # 对句子进行分词, 分词得到的是一个迭代的对象, 可以使用for循环获取数据\n",
    "    seq_list = jieba.cut(sentence, cut_all=False)\n",
    "    # 过滤停用词\n",
    "    seq_res = []\n",
    "    for seq in seq_list:\n",
    "        # 去除停用词\n",
    "        if seq in stop_words:\n",
    "            continue\n",
    "        seq_res.append(seq)\n",
    "    if len(seq_res) > 0:\n",
    "        review_data_list.append(seq_res)\n",
    "        label_data_list.append(label)\n",
    "\n",
    "print(len(review_data_list))\n",
    "print(len(label_data_list))\n",
    "print(review_data_list[:2])\n",
    "print(label_data_list[:2])"
   ],
   "metadata": {
    "collapsed": false,
    "pycharm": {
     "name": "#%%\n"
    }
   }
  },
  {
   "cell_type": "code",
   "execution_count": 7,
   "outputs": [],
   "source": [
    "features = [\" \".join(data) for data in review_data_list]\n",
    "\n",
    "# 保存分词后的数据\n",
    "save_data = pd.DataFrame({\n",
    "    'label': pd.Series(label_data_list),\n",
    "    'review': pd.Series(features)\n",
    "})\n",
    "save_data.to_csv(\"weibo/weibo_cut.csv\", sep=',', header=True, index=False, mode=\"w\")  # index 表示是否需要行号"
   ],
   "metadata": {
    "collapsed": false,
    "pycharm": {
     "name": "#%%\n"
    }
   }
  },
  {
   "cell_type": "markdown",
   "source": [
    "### 加载word2vec模型"
   ],
   "metadata": {
    "collapsed": false
   }
  },
  {
   "cell_type": "code",
   "execution_count": 8,
   "outputs": [],
   "source": [
    "word2vec_model_path = \"weibo/word2vec.model\"\n",
    "model = Word2Vec.load(word2vec_model_path)"
   ],
   "metadata": {
    "collapsed": false,
    "pycharm": {
     "name": "#%%\n"
    }
   }
  },
  {
   "cell_type": "code",
   "execution_count": 9,
   "outputs": [
    {
     "name": "stdout",
     "output_type": "stream",
     "text": [
      "201747\n",
      "[':', '泪', '~', '嘻嘻', '爱', '抓狂', '鼓掌', '…', '回复', '-']\n"
     ]
    }
   ],
   "source": [
    "# 获取单词词表\n",
    "word_list = model.wv.index_to_key\n",
    "print(len(word_list))\n",
    "print(word_list[:10])"
   ],
   "metadata": {
    "collapsed": false,
    "pycharm": {
     "name": "#%%\n"
    }
   }
  },
  {
   "cell_type": "markdown",
   "source": [
    "### 将数据转换为词向量"
   ],
   "metadata": {
    "collapsed": false
   }
  },
  {
   "cell_type": "code",
   "execution_count": 10,
   "outputs": [
    {
     "name": "stdout",
     "output_type": "stream",
     "text": [
      "119945\n"
     ]
    }
   ],
   "source": [
    "features_unk = []\n",
    "\n",
    "for sentence in review_data_list:\n",
    "    seq_res = []\n",
    "    for seq in sentence:\n",
    "        # 将不在词表中的词替换为<unk>\n",
    "        if seq not in word_list:\n",
    "            seq_res.append('<unk>')\n",
    "        else:\n",
    "            seq_res.append(seq)\n",
    "    features_unk.append(seq_res)\n",
    "\n",
    "print(len(features_unk))"
   ],
   "metadata": {
    "collapsed": false,
    "pycharm": {
     "name": "#%%\n"
    }
   }
  },
  {
   "cell_type": "code",
   "execution_count": 11,
   "outputs": [
    {
     "data": {
      "text/plain": "[array([[ 1.8741280e-02,  1.1425072e-03,  8.9426833e-04, ...,\n          7.4016671e-03,  1.2883464e-02, -4.6873275e-02],\n        [ 2.6914781e-02,  3.8821152e-03, -2.2450440e-02, ...,\n         -3.1217936e-02,  1.1910747e-02, -3.3909071e-02],\n        [ 4.9475200e-02, -1.5874540e-02,  6.3550696e-03, ...,\n          1.7243981e-02,  9.9601997e-03, -4.4792011e-02],\n        ...,\n        [ 1.5110646e+00, -1.7500892e+00,  3.4322922e+00, ...,\n         -5.2136872e-02, -1.8677931e-01,  1.3562311e+00],\n        [ 1.5110646e+00, -1.7500892e+00,  3.4322922e+00, ...,\n         -5.2136872e-02, -1.8677931e-01,  1.3562311e+00],\n        [ 1.5110646e+00, -1.7500892e+00,  3.4322922e+00, ...,\n         -5.2136872e-02, -1.8677931e-01,  1.3562311e+00]], dtype=float32),\n array([[-5.1415071e-02,  1.9149600e-01, -4.2778301e-01, ...,\n          4.5438632e-02,  1.6648443e-01, -3.4303448e-01],\n        [-2.1516225e-01,  1.8336062e-01, -3.9351913e-01, ...,\n         -4.3308019e-04,  1.5172122e-01, -2.7362645e-01],\n        [-1.9049811e-01,  1.8943444e-02, -9.8511472e-02, ...,\n         -3.7972871e-02, -2.0262781e-01, -3.1111208e-01],\n        ...,\n        [ 9.0033732e-02, -2.2049758e-01, -8.4942736e-02, ...,\n         -1.6740966e-01,  1.0274981e-01,  2.8801931e-02],\n        [ 3.6820775e-01, -1.0963035e+00,  3.4197911e-03, ...,\n         -3.1689003e+00,  1.8688692e+00, -5.2173314e+00],\n        [ 1.8352768e-01, -4.0235199e-02, -9.5833257e-02, ...,\n         -1.6697457e-02, -8.4844399e-03, -2.9339749e-01]], dtype=float32),\n array([[ 1.0668792e+00, -1.2243909e+00,  2.2955246e+00, ...,\n          8.1762689e-01,  7.1485519e-01,  8.0362403e-01],\n        [ 1.6710854e-01, -1.6270957e+00, -3.4615856e-01, ...,\n          1.1416295e+00,  2.3088364e-01,  6.1684004e-03],\n        [-1.9514393e+00, -1.1157975e+00,  1.6122767e+00, ...,\n          1.8341211e+00,  1.1957458e+00,  2.6158841e+00],\n        ...,\n        [-6.0484242e-02, -6.0984206e-01,  4.3561757e-01, ...,\n         -8.3450246e-01,  2.3125142e-03,  1.2054092e-01],\n        [ 5.6777543e-01, -8.2919222e-01,  6.8974394e-01, ...,\n          7.3021197e-01, -3.6977264e-01, -2.1452662e-01],\n        [ 8.0283779e-01,  8.4408629e-01, -4.6908960e-01, ...,\n         -3.9832845e-01,  9.3670554e-02, -7.8489199e-02]], dtype=float32)]"
     },
     "execution_count": 11,
     "metadata": {},
     "output_type": "execute_result"
    }
   ],
   "source": [
    "# 将数据转换为向量\n",
    "vec_features = [model.wv[feature] for feature in features_unk]\n",
    "vec_features[:3]"
   ],
   "metadata": {
    "collapsed": false,
    "pycharm": {
     "name": "#%%\n"
    }
   }
  },
  {
   "cell_type": "code",
   "execution_count": 16,
   "outputs": [
    {
     "name": "stdout",
     "output_type": "stream",
     "text": [
      "119945\n",
      "[array([[ 1.8741280e-02,  1.1425072e-03,  8.9426833e-04, ...,\n",
      "         7.4016671e-03,  1.2883464e-02, -4.6873275e-02],\n",
      "       [ 2.6914781e-02,  3.8821152e-03, -2.2450440e-02, ...,\n",
      "        -3.1217936e-02,  1.1910747e-02, -3.3909071e-02],\n",
      "       [ 4.9475200e-02, -1.5874540e-02,  6.3550696e-03, ...,\n",
      "         1.7243981e-02,  9.9601997e-03, -4.4792011e-02],\n",
      "       ...,\n",
      "       [ 1.5110646e+00, -1.7500892e+00,  3.4322922e+00, ...,\n",
      "        -5.2136872e-02, -1.8677931e-01,  1.3562311e+00],\n",
      "       [ 1.5110646e+00, -1.7500892e+00,  3.4322922e+00, ...,\n",
      "        -5.2136872e-02, -1.8677931e-01,  1.3562311e+00],\n",
      "       [ 1.5110646e+00, -1.7500892e+00,  3.4322922e+00, ...,\n",
      "        -5.2136872e-02, -1.8677931e-01,  1.3562311e+00]], dtype=float32)]\n"
     ]
    }
   ],
   "source": [
    "print(len(vec_features))\n",
    "print(vec_features[:1])"
   ],
   "metadata": {
    "collapsed": false,
    "pycharm": {
     "name": "#%%\n"
    }
   }
  },
  {
   "cell_type": "markdown",
   "source": [
    "### 创建数据迭代器"
   ],
   "metadata": {
    "collapsed": false
   }
  },
  {
   "cell_type": "code",
   "execution_count": 12,
   "outputs": [
    {
     "ename": "ValueError",
     "evalue": "expected sequence of length 12 at dim 1 (got 22)",
     "output_type": "error",
     "traceback": [
      "\u001B[1;31m---------------------------------------------------------------------------\u001B[0m",
      "\u001B[1;31mValueError\u001B[0m                                Traceback (most recent call last)",
      "\u001B[1;32mC:\\Users\\WANGTI~1\\AppData\\Local\\Temp/ipykernel_29552/1746923641.py\u001B[0m in \u001B[0;36m<module>\u001B[1;34m\u001B[0m\n\u001B[1;32m----> 1\u001B[1;33m \u001B[0mfeatures_dataset\u001B[0m \u001B[1;33m=\u001B[0m \u001B[0mtorch\u001B[0m\u001B[1;33m.\u001B[0m\u001B[0mtensor\u001B[0m\u001B[1;33m(\u001B[0m\u001B[0mvec_features\u001B[0m\u001B[1;33m)\u001B[0m\u001B[1;33m\u001B[0m\u001B[1;33m\u001B[0m\u001B[0m\n\u001B[0m\u001B[0;32m      2\u001B[0m \u001B[0mlabel_dataset\u001B[0m \u001B[1;33m=\u001B[0m \u001B[0mtorch\u001B[0m\u001B[1;33m.\u001B[0m\u001B[0mtensor\u001B[0m\u001B[1;33m(\u001B[0m\u001B[0mweibo_labels\u001B[0m\u001B[1;33m)\u001B[0m\u001B[1;33m\u001B[0m\u001B[1;33m\u001B[0m\u001B[0m\n",
      "\u001B[1;31mValueError\u001B[0m: expected sequence of length 12 at dim 1 (got 22)"
     ]
    }
   ],
   "source": [
    "\n",
    "features_dataset = torch.tensor(vec_features)\n",
    "label_dataset = torch.tensor(weibo_labels)"
   ],
   "metadata": {
    "collapsed": false,
    "pycharm": {
     "name": "#%%\n"
    }
   }
  },
  {
   "cell_type": "markdown",
   "source": [
    "### 搭建RNN模型"
   ],
   "metadata": {
    "collapsed": false
   }
  },
  {
   "cell_type": "code",
   "execution_count": null,
   "outputs": [],
   "source": [
    "from torch import nn\n",
    "from torch.nn import Sequential\n",
    "from torch.nn import RNN\n",
    "from torch.nn import Sigmoid\n",
    "from torch.nn import Embedding\n",
    "from torch.nn import Linear\n",
    "\n"
   ],
   "metadata": {
    "collapsed": false,
    "pycharm": {
     "name": "#%%\n"
    }
   }
  }
 ],
 "metadata": {
  "kernelspec": {
   "display_name": "Python 3",
   "language": "python",
   "name": "python3"
  },
  "language_info": {
   "codemirror_mode": {
    "name": "ipython",
    "version": 2
   },
   "file_extension": ".py",
   "mimetype": "text/x-python",
   "name": "python",
   "nbconvert_exporter": "python",
   "pygments_lexer": "ipython2",
   "version": "2.7.6"
  }
 },
 "nbformat": 4,
 "nbformat_minor": 0
}